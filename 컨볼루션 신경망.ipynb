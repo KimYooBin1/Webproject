{
  "nbformat": 4,
  "nbformat_minor": 0,
  "metadata": {
    "colab": {
      "name": "Untitled2.ipynb",
      "provenance": [],
      "authorship_tag": "ABX9TyN+CFH44EsZqr4pQR4SRwVI",
      "include_colab_link": true
    },
    "kernelspec": {
      "name": "python3",
      "display_name": "Python 3"
    },
    "language_info": {
      "name": "python"
    }
  },
  "cells": [
    {
      "cell_type": "markdown",
      "metadata": {
        "id": "view-in-github",
        "colab_type": "text"
      },
      "source": [
        "<a href=\"https://colab.research.google.com/github/KimYooBin1/Webproject/blob/master/%EC%BB%A8%EB%B3%BC%EB%A3%A8%EC%85%98%20%EC%8B%A0%EA%B2%BD%EB%A7%9D.ipynb\" target=\"_parent\"><img src=\"https://colab.research.google.com/assets/colab-badge.svg\" alt=\"Open In Colab\"/></a>"
      ]
    },
    {
      "cell_type": "code",
      "execution_count": 1,
      "metadata": {
        "id": "F5aqO1vEkvOc"
      },
      "outputs": [],
      "source": [
        "import numpy as np\n",
        "import tensorflow as tf\n",
        "from tensorflow.keras.datasets import mnist\n",
        "from tensorflow.keras.models import Sequential\n",
        "from tensorflow.keras.layers import Conv2D, MaxPooling2D, Flatten, Dense\n",
        "from tensorflow.keras.optimizers import Adam"
      ]
    },
    {
      "cell_type": "code",
      "source": [
        "#MNIST 데이터셋을 읽고 신경망에 입력할 형태로 변환\n",
        "(x_train, y_train),(x_test, y_test)=mnist.load_data()\n",
        "x_train=x_train.reshape(60000, 28, 28 ,1)\n",
        "x_test=x_test.reshape(10000, 28, 28, 1)\n",
        "x_train=x_train.astype(np.float32)/255.0\n",
        "x_test=x_test.astype(np.float32)/255.0\n",
        "y_train=tf.keras.utils.to_categorical(y_train, 10)\n",
        "y_test=tf.keras.utils.to_categorical(y_test, 10)"
      ],
      "metadata": {
        "colab": {
          "base_uri": "https://localhost:8080/"
        },
        "id": "tT8FOTndlnLk",
        "outputId": "b65b8b5d-183e-41a2-e510-4baf40639072"
      },
      "execution_count": 2,
      "outputs": [
        {
          "output_type": "stream",
          "name": "stdout",
          "text": [
            "Downloading data from https://storage.googleapis.com/tensorflow/tf-keras-datasets/mnist.npz\n",
            "11493376/11490434 [==============================] - 0s 0us/step\n",
            "11501568/11490434 [==============================] - 0s 0us/step\n"
          ]
        }
      ]
    },
    {
      "cell_type": "code",
      "source": [
        "#LeNet-5 신경망 모델 설계\n",
        "cnn=Sequential()\n",
        "cnn.add(Conv2D(6,(5,5), padding='same',activation='relu',input_shape=(28,28,1)))\n",
        "cnn.add(MaxPooling2D(pool_size=(2,2)))\n",
        "cnn.add(Conv2D(16,(5,5), padding='same',activation='relu'))\n",
        "cnn.add(MaxPooling2D(pool_size=(2,2)))\n",
        "cnn.add(Conv2D(120,(5,5), padding='same',activation='relu'))\n",
        "cnn.add(Flatten())\n",
        "cnn.add(Dense(84, activation='relu'))\n",
        "cnn.add(Dense(10,activation='softmax'))"
      ],
      "metadata": {
        "id": "36U5Up6emH3p"
      },
      "execution_count": 4,
      "outputs": []
    },
    {
      "cell_type": "code",
      "source": [
        "#신경망 모델 학습\n",
        "cnn.compile(loss='categorical_crossentropy', optimizer=Adam(),metrics=['accuracy'])\n",
        "hist=cnn.fit(x_train,y_train,batch_size=128,epochs=30,validation_data=(x_test,y_test),verbose=2)"
      ],
      "metadata": {
        "colab": {
          "base_uri": "https://localhost:8080/"
        },
        "id": "X7JPaII9mwhX",
        "outputId": "9ac549df-6708-463b-a9c7-ffaaf42f3bcf"
      },
      "execution_count": 5,
      "outputs": [
        {
          "output_type": "stream",
          "name": "stdout",
          "text": [
            "Epoch 1/30\n",
            "469/469 - 63s - loss: 0.2046 - accuracy: 0.9366 - val_loss: 0.0655 - val_accuracy: 0.9795 - 63s/epoch - 135ms/step\n",
            "Epoch 2/30\n",
            "469/469 - 62s - loss: 0.0575 - accuracy: 0.9823 - val_loss: 0.0463 - val_accuracy: 0.9837 - 62s/epoch - 133ms/step\n",
            "Epoch 3/30\n",
            "469/469 - 62s - loss: 0.0397 - accuracy: 0.9875 - val_loss: 0.0338 - val_accuracy: 0.9893 - 62s/epoch - 133ms/step\n",
            "Epoch 4/30\n",
            "469/469 - 63s - loss: 0.0287 - accuracy: 0.9909 - val_loss: 0.0292 - val_accuracy: 0.9902 - 63s/epoch - 134ms/step\n",
            "Epoch 5/30\n",
            "469/469 - 63s - loss: 0.0211 - accuracy: 0.9933 - val_loss: 0.0295 - val_accuracy: 0.9900 - 63s/epoch - 134ms/step\n",
            "Epoch 6/30\n",
            "469/469 - 62s - loss: 0.0187 - accuracy: 0.9938 - val_loss: 0.0291 - val_accuracy: 0.9913 - 62s/epoch - 133ms/step\n",
            "Epoch 7/30\n",
            "469/469 - 63s - loss: 0.0152 - accuracy: 0.9951 - val_loss: 0.0295 - val_accuracy: 0.9916 - 63s/epoch - 134ms/step\n",
            "Epoch 8/30\n",
            "469/469 - 62s - loss: 0.0131 - accuracy: 0.9957 - val_loss: 0.0309 - val_accuracy: 0.9908 - 62s/epoch - 133ms/step\n",
            "Epoch 9/30\n",
            "469/469 - 63s - loss: 0.0119 - accuracy: 0.9960 - val_loss: 0.0351 - val_accuracy: 0.9905 - 63s/epoch - 134ms/step\n",
            "Epoch 10/30\n",
            "469/469 - 63s - loss: 0.0093 - accuracy: 0.9970 - val_loss: 0.0309 - val_accuracy: 0.9922 - 63s/epoch - 134ms/step\n",
            "Epoch 11/30\n",
            "469/469 - 63s - loss: 0.0093 - accuracy: 0.9968 - val_loss: 0.0349 - val_accuracy: 0.9897 - 63s/epoch - 134ms/step\n",
            "Epoch 12/30\n",
            "469/469 - 63s - loss: 0.0084 - accuracy: 0.9973 - val_loss: 0.0342 - val_accuracy: 0.9916 - 63s/epoch - 134ms/step\n",
            "Epoch 13/30\n",
            "469/469 - 63s - loss: 0.0080 - accuracy: 0.9975 - val_loss: 0.0292 - val_accuracy: 0.9915 - 63s/epoch - 134ms/step\n",
            "Epoch 14/30\n",
            "469/469 - 63s - loss: 0.0057 - accuracy: 0.9979 - val_loss: 0.0332 - val_accuracy: 0.9921 - 63s/epoch - 134ms/step\n",
            "Epoch 15/30\n",
            "469/469 - 63s - loss: 0.0057 - accuracy: 0.9982 - val_loss: 0.0323 - val_accuracy: 0.9924 - 63s/epoch - 134ms/step\n",
            "Epoch 16/30\n",
            "469/469 - 63s - loss: 0.0062 - accuracy: 0.9978 - val_loss: 0.0471 - val_accuracy: 0.9898 - 63s/epoch - 134ms/step\n",
            "Epoch 17/30\n",
            "469/469 - 62s - loss: 0.0061 - accuracy: 0.9978 - val_loss: 0.0465 - val_accuracy: 0.9899 - 62s/epoch - 133ms/step\n",
            "Epoch 18/30\n",
            "469/469 - 63s - loss: 0.0028 - accuracy: 0.9992 - val_loss: 0.0436 - val_accuracy: 0.9904 - 63s/epoch - 134ms/step\n",
            "Epoch 19/30\n",
            "469/469 - 63s - loss: 0.0062 - accuracy: 0.9980 - val_loss: 0.0430 - val_accuracy: 0.9896 - 63s/epoch - 135ms/step\n",
            "Epoch 20/30\n",
            "469/469 - 63s - loss: 0.0047 - accuracy: 0.9985 - val_loss: 0.0386 - val_accuracy: 0.9927 - 63s/epoch - 134ms/step\n",
            "Epoch 21/30\n",
            "469/469 - 63s - loss: 0.0037 - accuracy: 0.9987 - val_loss: 0.0394 - val_accuracy: 0.9920 - 63s/epoch - 135ms/step\n",
            "Epoch 22/30\n",
            "469/469 - 63s - loss: 0.0032 - accuracy: 0.9990 - val_loss: 0.0422 - val_accuracy: 0.9918 - 63s/epoch - 134ms/step\n",
            "Epoch 23/30\n",
            "469/469 - 63s - loss: 0.0041 - accuracy: 0.9987 - val_loss: 0.0501 - val_accuracy: 0.9888 - 63s/epoch - 135ms/step\n",
            "Epoch 24/30\n",
            "469/469 - 64s - loss: 0.0043 - accuracy: 0.9987 - val_loss: 0.0402 - val_accuracy: 0.9918 - 64s/epoch - 136ms/step\n",
            "Epoch 25/30\n",
            "469/469 - 63s - loss: 0.0034 - accuracy: 0.9990 - val_loss: 0.0371 - val_accuracy: 0.9925 - 63s/epoch - 135ms/step\n",
            "Epoch 26/30\n",
            "469/469 - 63s - loss: 0.0031 - accuracy: 0.9990 - val_loss: 0.0609 - val_accuracy: 0.9895 - 63s/epoch - 135ms/step\n",
            "Epoch 27/30\n",
            "469/469 - 63s - loss: 0.0062 - accuracy: 0.9982 - val_loss: 0.0397 - val_accuracy: 0.9915 - 63s/epoch - 134ms/step\n",
            "Epoch 28/30\n",
            "469/469 - 63s - loss: 0.0026 - accuracy: 0.9993 - val_loss: 0.0428 - val_accuracy: 0.9921 - 63s/epoch - 134ms/step\n",
            "Epoch 29/30\n",
            "469/469 - 63s - loss: 0.0017 - accuracy: 0.9995 - val_loss: 0.0467 - val_accuracy: 0.9924 - 63s/epoch - 134ms/step\n",
            "Epoch 30/30\n",
            "469/469 - 63s - loss: 0.0010 - accuracy: 0.9997 - val_loss: 0.0512 - val_accuracy: 0.9919 - 63s/epoch - 134ms/step\n"
          ]
        }
      ]
    },
    {
      "cell_type": "code",
      "source": [
        "#신경망 모델 정확률 평가\n",
        "res = cnn.evaluate(x_test,y_test,verbose=0)\n",
        "print(\"정확률은\",res[1]*100)\n",
        "\n",
        "import matplotlib.pyplot as plt"
      ],
      "metadata": {
        "colab": {
          "base_uri": "https://localhost:8080/"
        },
        "id": "yi9Z1kvJnPHN",
        "outputId": "796a9414-3262-4441-ae9b-237f102ed5ac"
      },
      "execution_count": 6,
      "outputs": [
        {
          "output_type": "stream",
          "name": "stdout",
          "text": [
            "정확률은 99.19000267982483\n"
          ]
        }
      ]
    },
    {
      "cell_type": "code",
      "source": [
        "#정확률 그래프\n",
        "plt.plot(hist.history['accuracy'])\n",
        "plt.plot(hist.history['val_accuracy'])\n",
        "plt.title('Model accuracy')\n",
        "plt.ylabel('Accuracy')\n",
        "plt.xlabel('Epoch')\n",
        "plt.legend(['Train', 'Validation'], loc='best')\n",
        "plt.grid()\n",
        "plt.show()"
      ],
      "metadata": {
        "colab": {
          "base_uri": "https://localhost:8080/",
          "height": 295
        },
        "id": "0pwAalpHnfgL",
        "outputId": "818cccde-1015-4aba-d62b-86139a1a34e5"
      },
      "execution_count": 7,
      "outputs": [
        {
          "output_type": "display_data",
          "data": {
            "image/png": "[encoded data removed]",
            "text/plain": [
              "<Figure size 432x288 with 1 Axes>"
            ]
          },
          "metadata": {
            "needs_background": "light"
          }
        }
      ]
    },
    {
      "cell_type": "code",
      "source": [
        "#손실함수 그래프\n",
        "plt.plot(hist.history['loss'])\n",
        "plt.plot(hist.history['val_loss'])\n",
        "plt.title('Model loss')\n",
        "plt.ylabel('Loss')\n",
        "plt.xlabel('Epoch')\n",
        "plt.legend(['Train', 'Validation'], loc='best')\n",
        "plt.grid()\n",
        "plt.show()"
      ],
      "metadata": {
        "colab": {
          "base_uri": "https://localhost:8080/",
          "height": 295
        },
        "id": "-8UQ5rLFn54m",
        "outputId": "fcf14c1d-802f-448a-d9d6-1bfffe1fcaa8"
      },
      "execution_count": 8,
      "outputs": [
        {
          "output_type": "display_data",
          "data": {
            "image/png": "[encoded data removed]",
            "text/plain": [
              "<Figure size 432x288 with 1 Axes>"
            ]
          },
          "metadata": {
            "needs_background": "light"
          }
        }
      ]
    },
    {
      "cell_type": "code",
      "source": [
        ""
      ],
      "metadata": {
        "id": "ThdChG1FoEd1"
      },
      "execution_count": null,
      "outputs": []
    }
  ]
}